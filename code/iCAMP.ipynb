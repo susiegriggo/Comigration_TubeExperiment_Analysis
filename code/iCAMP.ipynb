{
 "cells": [
  {
   "cell_type": "code",
   "execution_count": 2,
   "id": "917b63c3-e2ad-4f28-a5e5-041ae027601f",
   "metadata": {},
   "outputs": [
    {
     "name": "stderr",
     "output_type": "stream",
     "text": [
      "Warning message:\n",
      "“'memory.size()' is Windows-specific”\n",
      "Mismatch warning: comm.colname has 1 mismatched names. \n",
      "\n",
      "unexpected name: 3028084 \n",
      "\n",
      "The names are re-ranked.\n",
      "\n",
      "---Now calculating PD ----Mon Sep 15 17:11:39 2025\n",
      "\n",
      "Setting parallel cluster for path computing cost 1.192449 secs.  Mon Sep 15 17:11:40 2025\n",
      "\n",
      "Parallel for 320 tips cost 5.297265 secs. Mon Sep 15 17:11:45 2025\n",
      "\n",
      "Path computing by parallel may take 0.0216419000758065 hours. Mon Sep 15 17:11:46 2025\n",
      "\n",
      "Now computing path for the rest 4605 tips. begin at Mon Sep 15 17:11:47 2025. Please wait...\n",
      "\n",
      "Computing path for the rest 4605 tips actually took 7.175029 secs. Mon Sep 15 17:11:53 2025\n",
      "\n",
      "Now setting big matrix file on the disk. Mon Sep 15 17:11:53 2025\n",
      "\n",
      "Setting parallel cluster for pdist computing cost 1.14297 secs.  Mon Sep 15 17:11:55 2025\n",
      "\n",
      "Parallel computing Pdist for the first 320 runs cost 13.78322 secs. Mon Sep 15 17:12:08 2025\n",
      "\n",
      "The rest Pdist computing by parallel may take 0.026438941352331 hours. Mon Sep 15 17:12:09 2025\n",
      "\n",
      "Computing pdist for the rest 4605 tips actually took 4.496359 mins. Mon Sep 15 17:16:39 2025\n",
      "\n",
      "All match very well.\n",
      "\n",
      "All match very well.\n",
      "\n",
      "Now calculating observed betaMNTD. Begin at Mon Sep 15 17:16:39 2025. Please wait...\n",
      "\n",
      "Now randomizing by parallel computing. Begin at Mon Sep 15 17:16:44 2025. Please wait...\n",
      "\n",
      "Now parallel computation has finished, beta NTI is calculating. Mon Sep 15 17:21:11 2025\n",
      "\n",
      "Now parallel computing. begin at Mon Sep 15 17:21:12 2025. Please wait...\n",
      "\n",
      "----now calculating sig.index of Bray at Mon Sep 15 18:39:43 2025----\n",
      "\n",
      "All match very well.\n",
      "\n",
      "Warning message:\n",
      "“'memory.size()' is Windows-specific”\n"
     ]
    }
   ],
   "source": [
    "# import the libraries \n",
    "library(iCAMP)\n",
    "library(ape) # needed tp read in the newick tree file \n",
    "\n",
    "# set the working directory \n",
    "setwd(wd)\n",
    "\n",
    "# read in the community data \n",
    "comm = t(read.table('../data/assembly_processes/long_term_migration_bracken_species_confidence_0.1_icamp_formatted_updated.tsv', sep='\\t', header=TRUE, row.names = 1))\n",
    "\n",
    "# read in the metadata \n",
    "metadata = read.table('metadata/long_term_migration_metadata.csv', header=TRUE, sep=',', row.names=1)\n",
    "\n",
    "# read in the phylogenetic tree object \n",
    "tree = read.tree('../data/assembly_processes/long_term_migration_bracken_species_confidence_0.1_tree.nwk')\n",
    "\n",
    "# check the taxa names in the tree and community match \n",
    "\n",
    "# first determine stochastic or deterministic using qpen \n",
    "qpen_results <- qpen(comm = comm, \n",
    "                 tree = tree,\n",
    "                 rand.time = 999,        # number of randomizations\n",
    "                 nworker = 64,            # parallel threads (adjust based on your CPU)\n",
    "                 ab.weight = TRUE,       # abundance-weighted (recommended)\n",
    "                 sig.bNTI = 1.96,        # significance threshold for βNTI\n",
    "                 sig.rc = 0.95,          # significance threshold for RC\n",
    "                 save.bNTIRC = TRUE,     # save intermediate βNTI and RC matrices\n",
    "                 project = \"migration_15092025\")   # prefix for output files\n"
   ]
  },
  {
   "cell_type": "code",
   "execution_count": 8,
   "id": "e954f99e-2183-4af1-9cc9-cbb29f00bd3f",
   "metadata": {},
   "outputs": [],
   "source": [
    "write.csv(qpen_results$result, '../data/assembly_processes/qpen_results.csv', row.names=TRUE)"
   ]
  },
  {
   "cell_type": "code",
   "execution_count": 9,
   "id": "cbcf25ff-a7a2-4d9b-a96b-22ce06347235",
   "metadata": {},
   "outputs": [],
   "source": [
    "write.csv(qpen_results$ratio, '../data/assembly_processes/qpen_ratio.csv', row.names=TRUE)"
   ]
  },
  {
   "cell_type": "markdown",
   "id": "66574a62-0046-4060-92de-0cc4ba825eaa",
   "metadata": {},
   "source": [
    "## repeat iCAMP using the phables assembled phages instead "
   ]
  },
  {
   "cell_type": "code",
   "execution_count": 10,
   "id": "28e3baca-d8d0-48af-a4a6-b174b75cbbfe",
   "metadata": {},
   "outputs": [
    {
     "name": "stderr",
     "output_type": "stream",
     "text": [
      "Warning message:\n",
      "“'memory.size()' is Windows-specific”\n",
      "The names are re-ranked.\n",
      "\n",
      "---Now calculating PD ----Mon Sep 29 10:29:26 2025\n",
      "\n",
      "Now computing path. begin at Mon Sep 29 10:29:27 2025. Please wait...\n",
      "\n",
      "Computing path took 7.178421 secs. Mon Sep 29 10:29:33 2025\n",
      "\n",
      "Now setting big matrix file on the disk. Mon Sep 29 10:29:33 2025\n",
      "\n",
      "Now computing pdist. begin at Mon Sep 29 10:29:34 2025. Please wait...\n",
      "\n",
      "Computing pdist actually took 7.018214 secs. Mon Sep 29 10:29:40 2025\n",
      "\n",
      "All match very well.\n",
      "\n",
      "All match very well.\n",
      "\n",
      "Now calculating observed betaMNTD. Begin at Mon Sep 29 10:29:40 2025. Please wait...\n",
      "\n",
      "Now randomizing by parallel computing. Begin at Mon Sep 29 10:29:41 2025. Please wait...\n",
      "\n",
      "Now parallel computation has finished, beta NTI is calculating. Mon Sep 29 10:29:48 2025\n",
      "\n",
      "Now parallel computing. begin at Mon Sep 29 10:29:49 2025. Please wait...\n",
      "\n",
      "----now calculating sig.index of Bray at Mon Sep 29 10:30:53 2025----\n",
      "\n",
      "All match very well.\n",
      "\n",
      "Warning message:\n",
      "“'memory.size()' is Windows-specific”\n"
     ]
    }
   ],
   "source": [
    "# import the libraries \n",
    "library(iCAMP)\n",
    "library(ape) # needed tp read in the newick tree file \n",
    "\n",
    "# set the working directory \n",
    "setwd(wd)\n",
    "\n",
    "# read in the community data \n",
    "comm = t(read.table('../data/assembly_processes/long_term_migration_virus_phables_rpkm_matrix.tsv', sep='\\t', header=TRUE, row.names = 1))\n",
    "\n",
    "# read in the metadata \n",
    "metadata = read.table('../metadata/long_term_migration_metadata.csv', header=TRUE, sep=',', row.names=1)\n",
    "\n",
    "# read in the phylogenetic tree object \n",
    "#tree = read.tree('output_files/vcontact_long_term.phables.upgma_tree.nwk') #tree built using vcontact \n",
    "tree = read.tree('../data/assembly_processes/resolved_phages.nwk')\n",
    "\n",
    "# check the taxa names in the tree and community match \n",
    "\n",
    "# first determine stochastic or deterministic using qpen \n",
    "qpen_results <- qpen(comm = comm, \n",
    "                 tree = tree,\n",
    "                 rand.time = 999,        # number of randomizations\n",
    "                 nworker = 64,            # parallel threads (adjust based on your CPU)\n",
    "                 ab.weight = TRUE,       # abundance-weighted (recommended)\n",
    "                 sig.bNTI = 1.96,        # significance threshold for βNTI\n",
    "                 sig.rc = 0.95,          # significance threshold for RC\n",
    "                 save.bNTIRC = TRUE,     # save intermediate βNTI and RC matrices\n",
    "                 project = \"viral_migration_phables_mashtree_29092025\")   # prefix for output files\n",
    " "
   ]
  },
  {
   "cell_type": "code",
   "execution_count": 11,
   "id": "12a6be79-4089-4c50-b76d-6004d9e30101",
   "metadata": {},
   "outputs": [],
   "source": [
    "# Method 1: Using merge to get tube info for both samples\n",
    "result_with_tubes <- qpen_results$result %>%\n",
    "  # Add tube info for sample1\n",
    "  left_join(metadata[, c(\"FAME\", \"tube\")], by = c(\"sample1\" = \"FAME\")) %>%\n",
    "  rename(tube1 = tube) %>%\n",
    "  # Add tube info for sample2  \n",
    "  left_join(metadata[, c(\"FAME\", \"tube\")], by = c(\"sample2\" = \"FAME\")) %>%\n",
    "  rename(tube2 = tube) %>%\n",
    "  # Filter to keep only same-tube comparisons\n",
    "  filter(tube1 == tube2)"
   ]
  },
  {
   "cell_type": "code",
   "execution_count": 19,
   "id": "f0bd95ed-e9c2-40c1-b685-f14d9d5f8b05",
   "metadata": {},
   "outputs": [],
   "source": [
    "write.csv(qpen_results$ratio, '../data/assembly_processes/qpen_viruses_phables_ratio.csv', row.names=TRUE)"
   ]
  },
  {
   "cell_type": "code",
   "execution_count": 22,
   "id": "c1ecb34a-4678-4d25-9c97-643a453df753",
   "metadata": {},
   "outputs": [],
   "source": [
    "write.csv(qpen_results$result, '../data/assembly_processes/output_files/qpen_viruses_phables_results.csv', row.names=TRUE)"
   ]
  },
  {
   "cell_type": "code",
   "execution_count": 15,
   "id": "5641c9d0-aff6-4221-9fc6-88ad285c12f6",
   "metadata": {},
   "outputs": [
    {
     "ename": "ERROR",
     "evalue": "Error in average(result_with_tubes[\"bNTI\"]): could not find function \"average\"\n",
     "output_type": "error",
     "traceback": [
      "Error in average(result_with_tubes[\"bNTI\"]): could not find function \"average\"\nTraceback:\n"
     ]
    }
   ],
   "source": [
    "qpen_results$result"
   ]
  },
  {
   "cell_type": "code",
   "execution_count": 17,
   "id": "e326c294-e180-437a-8181-9dd1f8bc55d9",
   "metadata": {},
   "outputs": [
    {
     "data": {
      "text/plain": [
       "[1] ‘1.5.12’"
      ]
     },
     "metadata": {},
     "output_type": "display_data"
    }
   ],
   "source": [
    "    packageVersion(\"iCAMP\")"
   ]
  },
  {
   "cell_type": "code",
   "execution_count": null,
   "id": "8ba26bf0-afcb-4eb9-8c1c-0fa599a2ea9a",
   "metadata": {},
   "outputs": [],
   "source": [
    "# what if I build a tree here based on ani "
   ]
  }
 ],
 "metadata": {
  "kernelspec": {
   "display_name": "R [conda env:bioinf]",
   "language": "R",
   "name": "conda-env-bioinf-r"
  },
  "language_info": {
   "codemirror_mode": "r",
   "file_extension": ".r",
   "mimetype": "text/x-r-source",
   "name": "R",
   "pygments_lexer": "r",
   "version": "4.2.3"
  }
 },
 "nbformat": 4,
 "nbformat_minor": 5
}
