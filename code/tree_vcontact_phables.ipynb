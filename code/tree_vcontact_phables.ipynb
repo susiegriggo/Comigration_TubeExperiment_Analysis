{
 "cells": [
  {
   "cell_type": "markdown",
   "id": "c9c76b3b-86d5-46d2-b63e-c4b849ac8c36",
   "metadata": {},
   "source": [
    "## Build a dendrogram based on vConTACT similarity "
   ]
  },
  {
   "cell_type": "code",
   "execution_count": 6,
   "id": "f7ce011a-44cc-48be-be70-43b107f80d24",
   "metadata": {},
   "outputs": [],
   "source": [
    "# imports \n",
    "import pandas as pd \n",
    "from Bio import SeqIO\n",
    "import numpy as np \n",
    "import seaborn as sns\n",
    "from scipy.cluster.hierarchy import linkage, dendrogram, to_tree\n",
    "import matplotlib.pyplot as plt\n",
    "import re"
   ]
  },
  {
   "cell_type": "code",
   "execution_count": 3,
   "id": "22f78877-da53-41a8-b7f5-eccfca1d7b83",
   "metadata": {},
   "outputs": [],
   "source": [
    "vcontact = pd.read_csv('../data/assembly_processes/vcontact_long_term.phables.c1.ntw', header = None, sep = ' ')\n",
    "vcontact_filtered = vcontact[vcontact[0].str.contains('phage_comp_')] \n",
    "vcontact_filtered = vcontact_filtered[vcontact_filtered[1].str.contains('phage_comp_')]"
   ]
  },
  {
   "cell_type": "code",
   "execution_count": null,
   "id": "753829e6-682b-49a9-9162-6a2e71a468eb",
   "metadata": {},
   "outputs": [],
   "source": [
    "handle = '../data/assembly_processes/resolved_paths.fasta'\n",
    "seq_dict = SeqIO.to_dict(SeqIO.parse(handle, \"fasta\"))\n",
    "contigs = list(seq_dict.keys()) \n",
    "\n",
    "vcontact_filtered = vcontact_filtered[vcontact_filtered[0].isin(contigs)] \n",
    "vcontact_filtered = vcontact_filtered[vcontact_filtered[1].isin(contigs)] \n",
    "\n",
    "vcontact_filtered.to_csv('../data/assembly_processes/vcontact_long_term.phables.filtered.c1.ntw')"
   ]
  },
  {
   "cell_type": "markdown",
   "id": "14004743-31b6-4168-98cc-b45a56399e5b",
   "metadata": {},
   "source": [
    "### build the similarity matrix"
   ]
  },
  {
   "cell_type": "code",
   "execution_count": 6,
   "id": "acc6a8c7-5b61-47b7-b5ad-47a13d443703",
   "metadata": {},
   "outputs": [
    {
     "name": "stdout",
     "output_type": "stream",
     "text": [
      "Saved Newick to upgma_tree.nwk\n"
     ]
    }
   ],
   "source": [
    "import numpy as np\n",
    "from scipy.cluster.hierarchy import linkage, to_tree\n",
    "from scipy.spatial.distance import squareform\n",
    "\n",
    "# --- Build similarity matrix (your code) ---\n",
    "similarity = np.zeros((len(contigs), len(contigs)), dtype=float)\n",
    "\n",
    "for i in range(len(vcontact_filtered)):\n",
    "    contig1 = vcontact_filtered.iloc[i, 0]\n",
    "    contig2 = vcontact_filtered.iloc[i, 1]\n",
    "    score   = float(vcontact_filtered.iloc[i, 2])\n",
    "\n",
    "    idx1 = contigs.index(contig1)\n",
    "    idx2 = contigs.index(contig2)\n",
    "    similarity[idx1, idx2] = score\n",
    "    similarity[idx2, idx1] = score  # ensure symmetry\n",
    "\n",
    "# Ensure diagonal reflects self-similarity\n",
    "np.fill_diagonal(similarity, similarity.max() if similarity.max() > 0 else 1.0)\n",
    "\n",
    "# --- Standardize similarities between 0 and 1 using only off-diagonals ---\n",
    "n = similarity.shape[0]\n",
    "off_diag_mask = ~np.eye(n, dtype=bool)\n",
    "off_vals = similarity[off_diag_mask]\n",
    "sim_min = off_vals.min()\n",
    "sim_max = off_vals.max()\n",
    "\n",
    "if sim_max > sim_min:\n",
    "    standardized = (similarity - sim_min) / (sim_max - sim_min)\n",
    "else:\n",
    "    # All off-diagonal values identical; fall back to zeros off-diagonal, ones on diagonal\n",
    "    standardized = np.zeros_like(similarity)\n",
    "    np.fill_diagonal(standardized, 1.0)\n",
    "\n",
    "# Keep perfect self-similarity\n",
    "np.fill_diagonal(standardized, 1.0)\n",
    "\n",
    "# --- Convert to dissimilarities (distance = 1 - similarity) ---\n",
    "dissimilarities = 1.0 - standardized\n",
    "np.fill_diagonal(dissimilarities, 0.0)\n",
    "\n",
    "# --- SciPy condensed distance matrix & UPGMA (average linkage) ---\n",
    "condensed = squareform(dissimilarities, checks=True)\n",
    "Z = linkage(condensed, method=\"average\")\n",
    "\n",
    "# --- Convert to Newick using contig names ---\n",
    "root, nodes = to_tree(Z, rd=True)\n",
    "\n",
    "def get_newick(node, parent_dist, names, newick=\"\"):\n",
    "    if node.is_leaf():\n",
    "        return f\"{names[node.id]}:{parent_dist - node.dist:.6f}{newick}\"\n",
    "    else:\n",
    "        if newick:\n",
    "            newick = f\"):{parent_dist - node.dist:.6f}{newick}\"\n",
    "        else:\n",
    "            newick = \");\"\n",
    "        newick = get_newick(node.get_left(),  node.dist, names, newick=newick)\n",
    "        newick = get_newick(node.get_right(), node.dist, names, newick=\",\" + newick)\n",
    "        newick = \"(\" + newick\n",
    "        return newick\n",
    "\n",
    "leaf_names = list(contigs)  # <-- use your contig names here\n",
    "newick_str = get_newick(root, root.dist, leaf_names)\n",
    "\n",
    "with open(\"../output_files/vcontact_long_term.phables.upgma_tree.nwk\", \"w\") as f:\n",
    "    f.write(newick_str)\n",
    "\n",
    "print(\"Saved Newick to upgma_tree.nwk\")\n"
   ]
  },
  {
   "cell_type": "code",
   "execution_count": 16,
   "id": "6873bd9d-3e8a-4dfd-9ba3-fcbc76591f51",
   "metadata": {},
   "outputs": [
    {
     "data": {
      "text/plain": [
       "'((((((((((((((((((((((((phage_comp_121_cycle_1:1.000000,phage_comp_41_cycle_1:1.000000):0.000000,phage_comp_146_cycle_1:1.000000):0.000000,phage_comp_155_cycle_1:1.000000):0.000000,phage_comp_166_cycle_1:1.000000):0.000000,phage_comp_187_cycle_1:1.000000):0.000000,phage_comp_189_cycle_1:1.000000):0.000000,phage_comp_193_cycle_1:1.000000):0.000000,phage_comp_219_cycle_1:1.000000):0.000000,phage_comp_227_cycle_1:1.000000):0.000000,phage_comp_294_cycle_1:1.000000):0.000000,((phage_comp_290_cycle_1:0.359215,phage_comp_268_cycle_1:0.359215):0.472202,phage_comp_299_cycle_1:0.831417):0.168583):0.000000,phage_comp_311_cycle_1:1.000000):0.000000,phage_comp_418_cycle_1:1.000000):0.000000,phage_comp_1621_cycle_1:1.000000):0.000000,((phage_comp_1666_cycle_1:0.993447,phage_comp_1615_cycle_1:0.993447):0.004367,phage_comp_184_cycle_1:0.997813):0.002187):0.000000,phage_comp_1684_cycle_1:1.000000):0.000000,((phage_comp_1709_cycle_1:0.100537,phage_comp_278_cycle_1:0.100537):0.711310,phage_comp_65_cycle_1:0.811847):0.188153):0.000000,phage_comp_1713_cycle_1:1.000000):0.000000,phage_comp_1744_cycle_1:1.000000):0.000000,phage_comp_1770_cycle_1:1.000000):0.000000,((phage_comp_1804_cycle_1:0.885135,phage_comp_369_cycle_1:0.885135):0.028718,phage_comp_78_cycle_1:0.913853):0.086147):0.000000,(phage_comp_1824_cycle_1:0.891078,phage_comp_162_cycle_1:0.891078):0.108922):0.000000,phage_comp_1981_cycle_1:1.000000):0.000000,((((((((((((((phage_comp_2247_cycle_1:0.954352,phage_comp_1360_cycle_1:0.954352):0.008440,(((phage_comp_354_cycle_1:0.861831,phage_comp_253_cycle_1:0.861831):0.018655,phage_comp_1788_cycle_1:0.880487):0.058998,phage_comp_1018_cycle_1:0.939484):0.023308):0.015896,(((phage_comp_1746_cycle_1:0.764678,phage_comp_163_cycle_1:0.764678):0.151163,phage_comp_483_cycle_1:0.915840):0.026027,phage_comp_2047_cycle_1:0.941867):0.036821):0.010312,((phage_comp_2024_cycle_1:0.936097,phage_comp_213_cycle_1:0.936097):0.008981,phage_comp_2037_cycle_1:0.945078):0.043922):0.005351,(((phage_comp_1034_cycle_1:0.956166,phage_comp_585_cycle_1:0.956166):0.008078,(((phage_comp_1791_cycle_1:0.847729,phage_comp_225_cycle_1:0.847729):0.058091,phage_comp_427_cycle_1:0.905820):0.026231,phage_comp_1700_cycle_1:0.932051):0.032193):0.008703,phage_comp_1159_cycle_1:0.972947):0.021404):0.002259,phage_comp_224_cycle_1:0.996610):0.000360,((phage_comp_2148_cycle_1:0.970690,phage_comp_966_cycle_1:0.970690):0.010308,phage_comp_76_cycle_1:0.980998):0.015973):0.001196,phage_comp_701_cycle_1:0.998167):0.000542,(((((((((((phage_comp_1641_cycle_1:0.000000,phage_comp_251_cycle_1:0.000000):0.902252,phage_comp_247_cycle_1:0.902252):0.036353,(phage_comp_248_cycle_1:0.864461,phage_comp_160_cycle_1:0.864461):0.074144):0.017070,phage_comp_256_cycle_1:0.955674):0.014691,((phage_comp_14_cycle_2:0.398481,phage_comp_14_cycle_1:0.398481):0.373099,phage_comp_253_cycle_2:0.771579):0.198786):0.011288,(((phage_comp_1656_cycle_1:0.689086,phage_comp_16_cycle_1:0.689086):0.156269,((phage_comp_105_cycle_2:0.155842,phage_comp_105_cycle_3:0.155842):0.004735,phage_comp_105_cycle_1:0.160577):0.684778):0.112014,phage_comp_1751_cycle_1:0.957369):0.024285):0.008720,phage_comp_118_cycle_1:0.990373):0.002734,phage_comp_64_cycle_1:0.993108):0.000699,phage_comp_2018_cycle_1:0.993806):0.001059,phage_comp_62_cycle_1:0.994865):0.000745,phage_comp_527_cycle_1:0.995610):0.003099):0.000828,phage_comp_865_cycle_1:0.999537):0.000237,((phage_comp_1473_cycle_1:0.957586,phage_comp_1085_cycle_1:0.957586):0.027452,phage_comp_471_cycle_1:0.985038):0.014736):0.000133,phage_comp_46_cycle_1:0.999907):0.000017,phage_comp_165_cycle_1:0.999924):0.000009,((((phage_comp_73_cycle_1:0.779263,phage_comp_73_cycle_3:0.779263):0.025453,phage_comp_73_cycle_2:0.804715):0.181404,phage_comp_306_cycle_1:0.986119):0.009352,phage_comp_74_cycle_1:0.995472):0.004461):0.000067);'"
      ]
     },
     "execution_count": 16,
     "metadata": {},
     "output_type": "execute_result"
    }
   ],
   "source": [
    "newick_str\n"
   ]
  },
  {
   "cell_type": "code",
   "execution_count": 20,
   "id": "16aaf552-3740-4216-b79e-eef8dbc4ced8",
   "metadata": {},
   "outputs": [
    {
     "data": {
      "text/plain": [
       "(89, 89)"
      ]
     },
     "execution_count": 20,
     "metadata": {},
     "output_type": "execute_result"
    }
   ],
   "source": [
    "similarity.shape"
   ]
  }
 ],
 "metadata": {
  "kernelspec": {
   "display_name": "Python 3",
   "language": "python",
   "name": "python3"
  },
  "language_info": {
   "codemirror_mode": {
    "name": "ipython",
    "version": 3
   },
   "file_extension": ".py",
   "mimetype": "text/x-python",
   "name": "python",
   "nbconvert_exporter": "python",
   "pygments_lexer": "ipython3",
   "version": "3.9.16"
  }
 },
 "nbformat": 4,
 "nbformat_minor": 5
}
